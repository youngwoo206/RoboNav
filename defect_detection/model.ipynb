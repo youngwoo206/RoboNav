{
 "cells": [
  {
   "cell_type": "code",
   "execution_count": 6,
   "metadata": {},
   "outputs": [],
   "source": [
    "import matplotlib.pyplot as plt\n",
    "import numpy as np\n",
    "import tensorflow as tf\n",
    "import os\n",
    "import sklearn.model_selection"
   ]
  },
  {
   "cell_type": "markdown",
   "metadata": {},
   "source": [
    "# SYDE 522 Final Project\n",
    "\n",
    "## By Anirudh Kilambi and Youngwoo Lee\n",
    "\n",
    "The purpose of this project is to apply techniques used in class to detect and identify faults and defects found in sewer pipelines. To accomplish this, we used training data found from the 2022 VideoPipe challenge for Real-World Video Understanding for Urban Pipe Inspection. For this project, we investigated the effectiveness of Convolutional Neural Networks (CNN) and Support Vector Machines (SVM) in order to come to an experimental conclusion on which model is most effective for this task."
   ]
  },
  {
   "cell_type": "markdown",
   "metadata": {},
   "source": [
    "## Data Loading"
   ]
  },
  {
   "cell_type": "code",
   "execution_count": 16,
   "metadata": {},
   "outputs": [
    {
     "name": "stdout",
     "output_type": "stream",
     "text": [
      "1066 852 214 214\n",
      "4736\n"
     ]
    }
   ],
   "source": [
    "raw_data_path = \"data/raw_images/\"\n",
    "categorization = [(\"4736\", 0), (\"2383\", 0), (\"d20017\", 1), (\"26852\", 1)]\n",
    "\n",
    "folders = os.listdir(raw_data_path)\n",
    "sewer_data = {}\n",
    "sewer_data[\"data\"] = []\n",
    "sewer_data[\"target\"] = []\n",
    "\n",
    "for folder, cat in categorization:\n",
    "    images = os.listdir(f\"{raw_data_path}{folder}/\")\n",
    "    for image in images:\n",
    "        sewer_data[\"data\"].append(f\"{raw_data_path}{folder}/{image}\")\n",
    "        sewer_data[\"target\"].append(cat)\n",
    "\n",
    "    \n",
    "x = sewer_data[\"data\"]\n",
    "y = sewer_data[\"target\"]\n",
    "\n",
    "x_trainvalid, x_test, y_trainvalid, y_test = sklearn.model_selection.train_test_split(\n",
    "    x, y, test_size=0.2, shuffle=True, random_state=0\n",
    ")\n",
    "\n",
    "x_train, x_valid, y_train, y_valid = sklearn.model_selection.train_test_split(\n",
    "    x, y, test_size=0.2, shuffle=True, random_state=0\n",
    ")\n",
    "\n",
    "print(len(y), len(y_train,), len(y_test), len(y_valid))\n",
    "print(x[1].split(\"/\")[2])"
   ]
  },
  {
   "cell_type": "code",
   "execution_count": 17,
   "metadata": {},
   "outputs": [],
   "source": [
    "def moveFiles(x,y,type):\n",
    "    xpath = f\"data/{type}/0/\"\n",
    "    ypath = f\"data/{type}/1/\"\n",
    "    if not os.path.exists(xpath):\n",
    "        os.makedirs(xpath)\n",
    "    if not os.path.exists(ypath):\n",
    "        os.makedirs(ypath)\n",
    "    \n",
    "    for i in range(len(x)):\n",
    "        x_split = x[i].split(\"/\")\n",
    "        img_name = x_split[2] + x_split[3]\n",
    "\n",
    "        if y[i] == 0:\n",
    "            os.system(f\"cp {x[i]} {xpath}/{img_name}\")\n",
    "        else:\n",
    "            os.system(f\"cp {x[i]} {ypath}/{img_name}\")\n",
    "\n",
    "moveFiles(x_train, y_train, \"train\")\n",
    "moveFiles(x_test, y_test, \"test\")\n",
    "moveFiles(x_valid, y_valid, \"valid\")"
   ]
  },
  {
   "cell_type": "code",
   "execution_count": 28,
   "metadata": {},
   "outputs": [
    {
     "name": "stdout",
     "output_type": "stream",
     "text": [
      "Found 852 files belonging to 2 classes.\n",
      "Found 214 files belonging to 2 classes.\n",
      "Found 214 files belonging to 2 classes.\n",
      "<_PrefetchDataset element_spec=(TensorSpec(shape=(None, 1280, 720, 3), dtype=tf.float32, name=None), TensorSpec(shape=(None, 2), dtype=tf.float32, name=None))>\n"
     ]
    }
   ],
   "source": [
    "train_ds = tf.keras.utils.image_dataset_from_directory(\n",
    "    directory='data/train/',\n",
    "    labels='inferred',\n",
    "    label_mode='categorical',\n",
    "    batch_size=1000,\n",
    "    image_size=(1280, 720))\n",
    "\n",
    "test_ds = tf.keras.utils.image_dataset_from_directory(\n",
    "    directory='data/test/',\n",
    "    labels='inferred',\n",
    "    label_mode='categorical',\n",
    "    batch_size=1000,\n",
    "    image_size=(1280, 720))\n",
    "\n",
    "valid_ds = tf.keras.utils.image_dataset_from_directory(\n",
    "    directory='data/valid/',\n",
    "    labels='inferred',\n",
    "    label_mode='categorical',\n",
    "    batch_size=1000,\n",
    "    image_size=(1280, 720))\n",
    "\n",
    "print(valid_ds)"
   ]
  },
  {
   "cell_type": "markdown",
   "metadata": {},
   "source": [
    "## Part 1: Convolutional Neural Networks "
   ]
  },
  {
   "cell_type": "code",
   "execution_count": 34,
   "metadata": {},
   "outputs": [
    {
     "name": "stdout",
     "output_type": "stream",
     "text": [
      "Epoch 1/5\n"
     ]
    }
   ],
   "source": [
    "model = tf.keras.models.Sequential([\n",
    "  tf.keras.layers.InputLayer(input_shape = (1280, 720, 3)),\n",
    "  tf.keras.layers.Flatten(input_shape=(1280, 720, 3)),   \n",
    "  tf.keras.layers.Dense(32, activation='relu'),    # 32 neurons in the middle \"hidden\" layer\n",
    "  tf.keras.layers.Dense(2, activation='relu')     # 10 outputs (one for each category)\n",
    "])\n",
    "\n",
    "def my_loss(y_true, y_predict):\n",
    "    return (y_true-y_predict)**2\n",
    "\n",
    "model.compile(optimizer=tf.keras.optimizers.SGD(learning_rate=0.1), # use stochastic gradient descent\n",
    "              loss='categorical_crossentropy',\n",
    "              metrics=['accuracy']  # in addition to the loss, also compute the categorization accuracy\n",
    "             )\n",
    "\n",
    "model.fit(train_ds, epochs=5, validation_data=valid_ds)\n",
    "\n",
    "plt.figure(figsize=(12,5))\n",
    "plt.subplot(1, 2, 1)\n",
    "plt.plot(model.history.history['accuracy'], c='k')\n",
    "plt.ylabel('training accuracy')\n",
    "plt.xlabel('epochs')\n",
    "plt.twinx()\n",
    "plt.plot(model.history.history['loss'], c='b')\n",
    "plt.ylabel('training loss (error)')\n",
    "plt.title('training')\n",
    "\n",
    "plt.subplot(1, 2, 2)\n",
    "plt.plot(model.history.history['val_accuracy'], c='k')\n",
    "plt.ylabel('testing accuracy')\n",
    "plt.xlabel('epochs')\n",
    "plt.twinx()\n",
    "plt.plot(model.history.history['val_loss'], c='b')\n",
    "plt.ylabel('testing loss (error)')\n",
    "plt.title('testing')\n",
    "plt.tight_layout()\n",
    "plt.show()"
   ]
  }
 ],
 "metadata": {
  "kernelspec": {
   "display_name": "venv",
   "language": "python",
   "name": "python3"
  },
  "language_info": {
   "codemirror_mode": {
    "name": "ipython",
    "version": 3
   },
   "file_extension": ".py",
   "mimetype": "text/x-python",
   "name": "python",
   "nbconvert_exporter": "python",
   "pygments_lexer": "ipython3",
   "version": "3.11.4"
  },
  "orig_nbformat": 4
 },
 "nbformat": 4,
 "nbformat_minor": 2
}
