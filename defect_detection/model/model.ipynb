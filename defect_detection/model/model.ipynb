{
 "cells": [
  {
   "cell_type": "markdown",
   "metadata": {},
   "source": [
    "THIS IS THE ACTUAL MODEL"
   ]
  },
  {
   "cell_type": "code",
   "execution_count": null,
   "metadata": {},
   "outputs": [],
   "source": [
    "#pip install ultralytics\n",
    "from ultralytics import YOLO, checks, hub\n",
    "from IPython.display import display, Image\n",
    "import cv2"
   ]
  },
  {
   "cell_type": "code",
   "execution_count": null,
   "metadata": {},
   "outputs": [],
   "source": [
    "model = YOLO(\"yolov8n.pt\")\n",
    "#https://github.com/THU-MIG/yolov10\n",
    "checks()\n",
    "\n",
    "hub.login('65be56fc47cf8757810544aa0af498c6e22540988e')\n",
    "\n",
    "model = YOLO('https://hub.ultralytics.com/models/qmjuUJRPbmRMTlenXEcG')\n",
    "results = model.train()"
   ]
  }
 ],
 "metadata": {
  "kernelspec": {
   "display_name": "venv",
   "language": "python",
   "name": "python3"
  },
  "language_info": {
   "name": "python",
   "version": "3.11.4"
  },
  "orig_nbformat": 4
 },
 "nbformat": 4,
 "nbformat_minor": 2
}
